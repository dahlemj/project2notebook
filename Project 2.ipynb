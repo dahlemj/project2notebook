{
 "cells": [
  {
   "cell_type": "markdown",
   "id": "95e4c5a0",
   "metadata": {},
   "source": [
    "# Offender Recidivism"
   ]
  },
  {
   "cell_type": "markdown",
   "id": "fbaa84eb",
   "metadata": {},
   "source": [
    "## Introduction"
   ]
  },
  {
   "cell_type": "markdown",
   "id": "4970da8a",
   "metadata": {},
   "source": [
    "During my time getting my Bachelor's in Computer Science, I picked up a minor in Criminal Justice and finished it last semester. During my last class for my minor, we did some data analytics in R regarding all types of crime data. We never got to predicting data, only visualizing and making bivariate regressions. While I'm done completing my minor, this topic is still interesting to me, and I'd like to see if I could use models to predict whether offenders reoffended or not within 3 years.\n",
    "\n",
    "For project 2, I'm going to be looking at offender recidivism and attempting to create a model to predict recidivism given crime characteristics and release information of real offenders provided by the State of Iowa. This dataset only includes a small portion of characteristics about offenders so I'm interested to see the accuracy of which it makes predictions, as anyone who has studied any criminal justice knows, crime is more complicated than just statistics."
   ]
  },
  {
   "cell_type": "markdown",
   "id": "d46e3912",
   "metadata": {},
   "source": [
    "## The Question"
   ]
  },
  {
   "cell_type": "markdown",
   "id": "4ede6f8f",
   "metadata": {},
   "source": [
    "The problem that I would like to solve this project is:\n",
    "<ul>\n",
    "    <li>Can it be predicted if an offender will return to prison within 3 years?</li>\n",
    "</ul>"
   ]
  },
  {
   "cell_type": "markdown",
   "id": "f8cc1b68",
   "metadata": {},
   "source": [
    "## The Data"
   ]
  },
  {
   "cell_type": "markdown",
   "id": "f5ac358c",
   "metadata": {},
   "source": [
    "The data I'm using for this project is from the State of Iowa, found through this Kaggle post <a href=\"https://www.kaggle.com/datasets/slonnadube/recidivism-for-offenders-released-from-prison?resource=download\">here.</a>\n",
    "\n",
    "The data itself captures characteristics about offenders, their original crimes, and whether they returned to prison within 3 years or not.\n",
    "\n",
    "I'm just using one of the csv files, as the second one is redudant and has a few more columns I'm not interested in.\n",
    "\n",
    "This data set includes a column at the end with a 1 or 0 value to indicate whether an offender has returned to prison or not (1 meaning they returned, 0 they have not)."
   ]
  },
  {
   "cell_type": "code",
   "execution_count": 1,
   "id": "3b171392",
   "metadata": {},
   "outputs": [],
   "source": [
    "import pandas as pd\n",
    "import numpy as np"
   ]
  },
  {
   "cell_type": "code",
   "execution_count": 2,
   "id": "fea3a669",
   "metadata": {},
   "outputs": [],
   "source": [
    "recidivism_df = pd.read_csv(\"3-Year_Recidivism_for_Offenders_Released_from_Prison_in_Iowa_elaborated.csv\")"
   ]
  },
  {
   "cell_type": "code",
   "execution_count": 3,
   "id": "6156c5a7",
   "metadata": {},
   "outputs": [
    {
     "data": {
      "text/html": [
       "<div>\n",
       "<style scoped>\n",
       "    .dataframe tbody tr th:only-of-type {\n",
       "        vertical-align: middle;\n",
       "    }\n",
       "\n",
       "    .dataframe tbody tr th {\n",
       "        vertical-align: top;\n",
       "    }\n",
       "\n",
       "    .dataframe thead th {\n",
       "        text-align: right;\n",
       "    }\n",
       "</style>\n",
       "<table border=\"1\" class=\"dataframe\">\n",
       "  <thead>\n",
       "    <tr style=\"text-align: right;\">\n",
       "      <th></th>\n",
       "      <th>Fiscal Year Released</th>\n",
       "      <th>Recidivism Reporting Year</th>\n",
       "      <th>Race - Ethnicity</th>\n",
       "      <th>Age At Release</th>\n",
       "      <th>Convicting Offense Classification</th>\n",
       "      <th>Convicting Offense Type</th>\n",
       "      <th>Convicting Offense Subtype</th>\n",
       "      <th>Main Supervising District</th>\n",
       "      <th>Release Type</th>\n",
       "      <th>Release type: Paroled to Detainder united</th>\n",
       "      <th>Part of Target Population</th>\n",
       "      <th>Recidivism - Return to Prison numeric</th>\n",
       "    </tr>\n",
       "  </thead>\n",
       "  <tbody>\n",
       "    <tr>\n",
       "      <th>0</th>\n",
       "      <td>2010</td>\n",
       "      <td>2013</td>\n",
       "      <td>White - Non-Hispanic</td>\n",
       "      <td>Under 25</td>\n",
       "      <td>D Felony</td>\n",
       "      <td>Violent</td>\n",
       "      <td>Assault</td>\n",
       "      <td>4JD</td>\n",
       "      <td>Parole</td>\n",
       "      <td>Parole</td>\n",
       "      <td>Yes</td>\n",
       "      <td>1</td>\n",
       "    </tr>\n",
       "    <tr>\n",
       "      <th>1</th>\n",
       "      <td>2010</td>\n",
       "      <td>2013</td>\n",
       "      <td>White - Non-Hispanic</td>\n",
       "      <td>55 and Older</td>\n",
       "      <td>D Felony</td>\n",
       "      <td>Public Order</td>\n",
       "      <td>OWI</td>\n",
       "      <td>7JD</td>\n",
       "      <td>Parole</td>\n",
       "      <td>Parole</td>\n",
       "      <td>Yes</td>\n",
       "      <td>1</td>\n",
       "    </tr>\n",
       "    <tr>\n",
       "      <th>2</th>\n",
       "      <td>2010</td>\n",
       "      <td>2013</td>\n",
       "      <td>White - Non-Hispanic</td>\n",
       "      <td>25-34</td>\n",
       "      <td>D Felony</td>\n",
       "      <td>Property</td>\n",
       "      <td>Burglary</td>\n",
       "      <td>5JD</td>\n",
       "      <td>Parole</td>\n",
       "      <td>Parole</td>\n",
       "      <td>Yes</td>\n",
       "      <td>1</td>\n",
       "    </tr>\n",
       "    <tr>\n",
       "      <th>3</th>\n",
       "      <td>2010</td>\n",
       "      <td>2013</td>\n",
       "      <td>White - Non-Hispanic</td>\n",
       "      <td>55 and Older</td>\n",
       "      <td>C Felony</td>\n",
       "      <td>Drug</td>\n",
       "      <td>Trafficking</td>\n",
       "      <td>8JD</td>\n",
       "      <td>Parole</td>\n",
       "      <td>Parole</td>\n",
       "      <td>Yes</td>\n",
       "      <td>1</td>\n",
       "    </tr>\n",
       "    <tr>\n",
       "      <th>4</th>\n",
       "      <td>2010</td>\n",
       "      <td>2013</td>\n",
       "      <td>Black - Non-Hispanic</td>\n",
       "      <td>25-34</td>\n",
       "      <td>D Felony</td>\n",
       "      <td>Drug</td>\n",
       "      <td>Trafficking</td>\n",
       "      <td>3JD</td>\n",
       "      <td>Parole</td>\n",
       "      <td>Parole</td>\n",
       "      <td>Yes</td>\n",
       "      <td>1</td>\n",
       "    </tr>\n",
       "    <tr>\n",
       "      <th>...</th>\n",
       "      <td>...</td>\n",
       "      <td>...</td>\n",
       "      <td>...</td>\n",
       "      <td>...</td>\n",
       "      <td>...</td>\n",
       "      <td>...</td>\n",
       "      <td>...</td>\n",
       "      <td>...</td>\n",
       "      <td>...</td>\n",
       "      <td>...</td>\n",
       "      <td>...</td>\n",
       "      <td>...</td>\n",
       "    </tr>\n",
       "    <tr>\n",
       "      <th>26015</th>\n",
       "      <td>2015</td>\n",
       "      <td>2018</td>\n",
       "      <td>White - Hispanic</td>\n",
       "      <td>25-34</td>\n",
       "      <td>C Felony</td>\n",
       "      <td>Violent</td>\n",
       "      <td>Murder/Manslaughter</td>\n",
       "      <td>NaN</td>\n",
       "      <td>Discharged End of Sentence</td>\n",
       "      <td>Discharged End of Sentence</td>\n",
       "      <td>Yes</td>\n",
       "      <td>0</td>\n",
       "    </tr>\n",
       "    <tr>\n",
       "      <th>26016</th>\n",
       "      <td>2015</td>\n",
       "      <td>2018</td>\n",
       "      <td>White - Non-Hispanic</td>\n",
       "      <td>25-34</td>\n",
       "      <td>D Felony</td>\n",
       "      <td>Property</td>\n",
       "      <td>Vandalism</td>\n",
       "      <td>5JD</td>\n",
       "      <td>Paroled to Detainer - Out of State</td>\n",
       "      <td>Paroled to Detainer</td>\n",
       "      <td>No</td>\n",
       "      <td>0</td>\n",
       "    </tr>\n",
       "    <tr>\n",
       "      <th>26017</th>\n",
       "      <td>2015</td>\n",
       "      <td>2018</td>\n",
       "      <td>Black - Non-Hispanic</td>\n",
       "      <td>Under 25</td>\n",
       "      <td>Aggravated Misdemeanor</td>\n",
       "      <td>Violent</td>\n",
       "      <td>Other Violent</td>\n",
       "      <td>1JD</td>\n",
       "      <td>Discharged End of Sentence</td>\n",
       "      <td>Discharged End of Sentence</td>\n",
       "      <td>Yes</td>\n",
       "      <td>0</td>\n",
       "    </tr>\n",
       "    <tr>\n",
       "      <th>26018</th>\n",
       "      <td>2015</td>\n",
       "      <td>2018</td>\n",
       "      <td>White - Non-Hispanic</td>\n",
       "      <td>Under 25</td>\n",
       "      <td>D Felony</td>\n",
       "      <td>Drug</td>\n",
       "      <td>Other Drug</td>\n",
       "      <td>5JD</td>\n",
       "      <td>Parole</td>\n",
       "      <td>Parole</td>\n",
       "      <td>No</td>\n",
       "      <td>0</td>\n",
       "    </tr>\n",
       "    <tr>\n",
       "      <th>26019</th>\n",
       "      <td>2015</td>\n",
       "      <td>2018</td>\n",
       "      <td>White - Non-Hispanic</td>\n",
       "      <td>35-44</td>\n",
       "      <td>C Felony</td>\n",
       "      <td>Violent</td>\n",
       "      <td>Other Violent</td>\n",
       "      <td>NaN</td>\n",
       "      <td>Parole</td>\n",
       "      <td>Parole</td>\n",
       "      <td>No</td>\n",
       "      <td>0</td>\n",
       "    </tr>\n",
       "  </tbody>\n",
       "</table>\n",
       "<p>26020 rows × 12 columns</p>\n",
       "</div>"
      ],
      "text/plain": [
       "       Fiscal Year Released  Recidivism Reporting Year      Race - Ethnicity  \\\n",
       "0                      2010                       2013  White - Non-Hispanic   \n",
       "1                      2010                       2013  White - Non-Hispanic   \n",
       "2                      2010                       2013  White - Non-Hispanic   \n",
       "3                      2010                       2013  White - Non-Hispanic   \n",
       "4                      2010                       2013  Black - Non-Hispanic   \n",
       "...                     ...                        ...                   ...   \n",
       "26015                  2015                       2018      White - Hispanic   \n",
       "26016                  2015                       2018  White - Non-Hispanic   \n",
       "26017                  2015                       2018  Black - Non-Hispanic   \n",
       "26018                  2015                       2018  White - Non-Hispanic   \n",
       "26019                  2015                       2018  White - Non-Hispanic   \n",
       "\n",
       "      Age At Release  Convicting Offense Classification  \\\n",
       "0            Under 25                          D Felony   \n",
       "1        55 and Older                          D Felony   \n",
       "2               25-34                          D Felony   \n",
       "3        55 and Older                          C Felony   \n",
       "4               25-34                          D Felony   \n",
       "...               ...                               ...   \n",
       "26015           25-34                          C Felony   \n",
       "26016           25-34                          D Felony   \n",
       "26017        Under 25            Aggravated Misdemeanor   \n",
       "26018        Under 25                          D Felony   \n",
       "26019           35-44                          C Felony   \n",
       "\n",
       "      Convicting Offense Type Convicting Offense Subtype  \\\n",
       "0                     Violent                    Assault   \n",
       "1                Public Order                        OWI   \n",
       "2                    Property                   Burglary   \n",
       "3                        Drug                Trafficking   \n",
       "4                        Drug                Trafficking   \n",
       "...                       ...                        ...   \n",
       "26015                 Violent        Murder/Manslaughter   \n",
       "26016                Property                  Vandalism   \n",
       "26017                 Violent              Other Violent   \n",
       "26018                    Drug                 Other Drug   \n",
       "26019                 Violent              Other Violent   \n",
       "\n",
       "      Main Supervising District                        Release Type  \\\n",
       "0                           4JD                              Parole   \n",
       "1                           7JD                              Parole   \n",
       "2                           5JD                              Parole   \n",
       "3                           8JD                              Parole   \n",
       "4                           3JD                              Parole   \n",
       "...                         ...                                 ...   \n",
       "26015                       NaN          Discharged End of Sentence   \n",
       "26016                       5JD  Paroled to Detainer - Out of State   \n",
       "26017                       1JD          Discharged End of Sentence   \n",
       "26018                       5JD                              Parole   \n",
       "26019                       NaN                              Parole   \n",
       "\n",
       "      Release type: Paroled to Detainder united Part of Target Population  \\\n",
       "0                                        Parole                       Yes   \n",
       "1                                        Parole                       Yes   \n",
       "2                                        Parole                       Yes   \n",
       "3                                        Parole                       Yes   \n",
       "4                                        Parole                       Yes   \n",
       "...                                         ...                       ...   \n",
       "26015                Discharged End of Sentence                       Yes   \n",
       "26016                       Paroled to Detainer                        No   \n",
       "26017                Discharged End of Sentence                       Yes   \n",
       "26018                                    Parole                        No   \n",
       "26019                                    Parole                        No   \n",
       "\n",
       "       Recidivism - Return to Prison numeric  \n",
       "0                                          1  \n",
       "1                                          1  \n",
       "2                                          1  \n",
       "3                                          1  \n",
       "4                                          1  \n",
       "...                                      ...  \n",
       "26015                                      0  \n",
       "26016                                      0  \n",
       "26017                                      0  \n",
       "26018                                      0  \n",
       "26019                                      0  \n",
       "\n",
       "[26020 rows x 12 columns]"
      ]
     },
     "execution_count": 3,
     "metadata": {},
     "output_type": "execute_result"
    }
   ],
   "source": [
    "recidivism_df"
   ]
  },
  {
   "cell_type": "markdown",
   "id": "770112fd",
   "metadata": {},
   "source": [
    "## Pre-Processing"
   ]
  },
  {
   "cell_type": "markdown",
   "id": "129f61e8",
   "metadata": {},
   "source": [
    "Luckily with this dataset, there's not much pre-processing to do, but I'm still going to inspect my data and remove unnecessary columns. I'm keeping Release type: Paroled to Detainder united versus Release Type because it's more concise in the rows and combines similar types of release."
   ]
  },
  {
   "cell_type": "code",
   "execution_count": 4,
   "id": "2eb15139",
   "metadata": {},
   "outputs": [],
   "source": [
    "recidivism_cleaned_df = recidivism_df.drop(['Fiscal Year Released', 'Recidivism Reporting Year', \n",
    "                                            'Main Supervising District', 'Release Type', \n",
    "                                            'Part of Target Population'], axis=1)"
   ]
  },
  {
   "cell_type": "code",
   "execution_count": 5,
   "id": "b5e6f4b3",
   "metadata": {},
   "outputs": [
    {
     "data": {
      "text/plain": [
       "Race - Ethnicity                               30\n",
       "Age At Release                                  3\n",
       "Convicting Offense Classification               0\n",
       "Convicting Offense Type                         0\n",
       "Convicting Offense Subtype                      0\n",
       "Release type: Paroled to Detainder united    1762\n",
       "Recidivism - Return to Prison numeric           0\n",
       "dtype: int64"
      ]
     },
     "execution_count": 5,
     "metadata": {},
     "output_type": "execute_result"
    }
   ],
   "source": [
    "#checking for null values\n",
    "recidivism_cleaned_df.isna().sum()"
   ]
  },
  {
   "cell_type": "markdown",
   "id": "95b3f529",
   "metadata": {},
   "source": [
    "In a frame with just over 26,000 rows, I'm fine with dropping all the rows with these null values. I want to include all of these rows in the model, and if it had full data it'll be able to train and perform better."
   ]
  },
  {
   "cell_type": "code",
   "execution_count": 6,
   "id": "f6c41f8f",
   "metadata": {},
   "outputs": [],
   "source": [
    "recidivism_cleaned_df = recidivism_cleaned_df.dropna(axis=0)"
   ]
  },
  {
   "cell_type": "code",
   "execution_count": 7,
   "id": "6c185c4f",
   "metadata": {},
   "outputs": [
    {
     "data": {
      "text/html": [
       "<div>\n",
       "<style scoped>\n",
       "    .dataframe tbody tr th:only-of-type {\n",
       "        vertical-align: middle;\n",
       "    }\n",
       "\n",
       "    .dataframe tbody tr th {\n",
       "        vertical-align: top;\n",
       "    }\n",
       "\n",
       "    .dataframe thead th {\n",
       "        text-align: right;\n",
       "    }\n",
       "</style>\n",
       "<table border=\"1\" class=\"dataframe\">\n",
       "  <thead>\n",
       "    <tr style=\"text-align: right;\">\n",
       "      <th></th>\n",
       "      <th>Race - Ethnicity</th>\n",
       "      <th>Age At Release</th>\n",
       "      <th>Convicting Offense Classification</th>\n",
       "      <th>Convicting Offense Type</th>\n",
       "      <th>Convicting Offense Subtype</th>\n",
       "      <th>Release type: Paroled to Detainder united</th>\n",
       "      <th>Recidivism - Return to Prison numeric</th>\n",
       "    </tr>\n",
       "  </thead>\n",
       "  <tbody>\n",
       "    <tr>\n",
       "      <th>0</th>\n",
       "      <td>White - Non-Hispanic</td>\n",
       "      <td>Under 25</td>\n",
       "      <td>D Felony</td>\n",
       "      <td>Violent</td>\n",
       "      <td>Assault</td>\n",
       "      <td>Parole</td>\n",
       "      <td>1</td>\n",
       "    </tr>\n",
       "    <tr>\n",
       "      <th>1</th>\n",
       "      <td>White - Non-Hispanic</td>\n",
       "      <td>55 and Older</td>\n",
       "      <td>D Felony</td>\n",
       "      <td>Public Order</td>\n",
       "      <td>OWI</td>\n",
       "      <td>Parole</td>\n",
       "      <td>1</td>\n",
       "    </tr>\n",
       "    <tr>\n",
       "      <th>2</th>\n",
       "      <td>White - Non-Hispanic</td>\n",
       "      <td>25-34</td>\n",
       "      <td>D Felony</td>\n",
       "      <td>Property</td>\n",
       "      <td>Burglary</td>\n",
       "      <td>Parole</td>\n",
       "      <td>1</td>\n",
       "    </tr>\n",
       "    <tr>\n",
       "      <th>3</th>\n",
       "      <td>White - Non-Hispanic</td>\n",
       "      <td>55 and Older</td>\n",
       "      <td>C Felony</td>\n",
       "      <td>Drug</td>\n",
       "      <td>Trafficking</td>\n",
       "      <td>Parole</td>\n",
       "      <td>1</td>\n",
       "    </tr>\n",
       "    <tr>\n",
       "      <th>4</th>\n",
       "      <td>Black - Non-Hispanic</td>\n",
       "      <td>25-34</td>\n",
       "      <td>D Felony</td>\n",
       "      <td>Drug</td>\n",
       "      <td>Trafficking</td>\n",
       "      <td>Parole</td>\n",
       "      <td>1</td>\n",
       "    </tr>\n",
       "    <tr>\n",
       "      <th>...</th>\n",
       "      <td>...</td>\n",
       "      <td>...</td>\n",
       "      <td>...</td>\n",
       "      <td>...</td>\n",
       "      <td>...</td>\n",
       "      <td>...</td>\n",
       "      <td>...</td>\n",
       "    </tr>\n",
       "    <tr>\n",
       "      <th>26015</th>\n",
       "      <td>White - Hispanic</td>\n",
       "      <td>25-34</td>\n",
       "      <td>C Felony</td>\n",
       "      <td>Violent</td>\n",
       "      <td>Murder/Manslaughter</td>\n",
       "      <td>Discharged End of Sentence</td>\n",
       "      <td>0</td>\n",
       "    </tr>\n",
       "    <tr>\n",
       "      <th>26016</th>\n",
       "      <td>White - Non-Hispanic</td>\n",
       "      <td>25-34</td>\n",
       "      <td>D Felony</td>\n",
       "      <td>Property</td>\n",
       "      <td>Vandalism</td>\n",
       "      <td>Paroled to Detainer</td>\n",
       "      <td>0</td>\n",
       "    </tr>\n",
       "    <tr>\n",
       "      <th>26017</th>\n",
       "      <td>Black - Non-Hispanic</td>\n",
       "      <td>Under 25</td>\n",
       "      <td>Aggravated Misdemeanor</td>\n",
       "      <td>Violent</td>\n",
       "      <td>Other Violent</td>\n",
       "      <td>Discharged End of Sentence</td>\n",
       "      <td>0</td>\n",
       "    </tr>\n",
       "    <tr>\n",
       "      <th>26018</th>\n",
       "      <td>White - Non-Hispanic</td>\n",
       "      <td>Under 25</td>\n",
       "      <td>D Felony</td>\n",
       "      <td>Drug</td>\n",
       "      <td>Other Drug</td>\n",
       "      <td>Parole</td>\n",
       "      <td>0</td>\n",
       "    </tr>\n",
       "    <tr>\n",
       "      <th>26019</th>\n",
       "      <td>White - Non-Hispanic</td>\n",
       "      <td>35-44</td>\n",
       "      <td>C Felony</td>\n",
       "      <td>Violent</td>\n",
       "      <td>Other Violent</td>\n",
       "      <td>Parole</td>\n",
       "      <td>0</td>\n",
       "    </tr>\n",
       "  </tbody>\n",
       "</table>\n",
       "<p>24225 rows × 7 columns</p>\n",
       "</div>"
      ],
      "text/plain": [
       "           Race - Ethnicity Age At Release  Convicting Offense Classification  \\\n",
       "0      White - Non-Hispanic        Under 25                          D Felony   \n",
       "1      White - Non-Hispanic    55 and Older                          D Felony   \n",
       "2      White - Non-Hispanic           25-34                          D Felony   \n",
       "3      White - Non-Hispanic    55 and Older                          C Felony   \n",
       "4      Black - Non-Hispanic           25-34                          D Felony   \n",
       "...                     ...             ...                               ...   \n",
       "26015      White - Hispanic           25-34                          C Felony   \n",
       "26016  White - Non-Hispanic           25-34                          D Felony   \n",
       "26017  Black - Non-Hispanic        Under 25            Aggravated Misdemeanor   \n",
       "26018  White - Non-Hispanic        Under 25                          D Felony   \n",
       "26019  White - Non-Hispanic           35-44                          C Felony   \n",
       "\n",
       "      Convicting Offense Type Convicting Offense Subtype  \\\n",
       "0                     Violent                    Assault   \n",
       "1                Public Order                        OWI   \n",
       "2                    Property                   Burglary   \n",
       "3                        Drug                Trafficking   \n",
       "4                        Drug                Trafficking   \n",
       "...                       ...                        ...   \n",
       "26015                 Violent        Murder/Manslaughter   \n",
       "26016                Property                  Vandalism   \n",
       "26017                 Violent              Other Violent   \n",
       "26018                    Drug                 Other Drug   \n",
       "26019                 Violent              Other Violent   \n",
       "\n",
       "      Release type: Paroled to Detainder united  \\\n",
       "0                                        Parole   \n",
       "1                                        Parole   \n",
       "2                                        Parole   \n",
       "3                                        Parole   \n",
       "4                                        Parole   \n",
       "...                                         ...   \n",
       "26015                Discharged End of Sentence   \n",
       "26016                       Paroled to Detainer   \n",
       "26017                Discharged End of Sentence   \n",
       "26018                                    Parole   \n",
       "26019                                    Parole   \n",
       "\n",
       "       Recidivism - Return to Prison numeric  \n",
       "0                                          1  \n",
       "1                                          1  \n",
       "2                                          1  \n",
       "3                                          1  \n",
       "4                                          1  \n",
       "...                                      ...  \n",
       "26015                                      0  \n",
       "26016                                      0  \n",
       "26017                                      0  \n",
       "26018                                      0  \n",
       "26019                                      0  \n",
       "\n",
       "[24225 rows x 7 columns]"
      ]
     },
     "execution_count": 7,
     "metadata": {},
     "output_type": "execute_result"
    }
   ],
   "source": [
    "recidivism_cleaned_df"
   ]
  },
  {
   "cell_type": "code",
   "execution_count": 8,
   "id": "c2bf31ee",
   "metadata": {},
   "outputs": [
    {
     "data": {
      "text/plain": [
       "Race - Ethnicity                             0\n",
       "Age At Release                               0\n",
       "Convicting Offense Classification            0\n",
       "Convicting Offense Type                      0\n",
       "Convicting Offense Subtype                   0\n",
       "Release type: Paroled to Detainder united    0\n",
       "Recidivism - Return to Prison numeric        0\n",
       "dtype: int64"
      ]
     },
     "execution_count": 8,
     "metadata": {},
     "output_type": "execute_result"
    }
   ],
   "source": [
    "recidivism_cleaned_df.isna().sum()"
   ]
  },
  {
   "cell_type": "code",
   "execution_count": 9,
   "id": "7681038f",
   "metadata": {},
   "outputs": [
    {
     "data": {
      "text/plain": [
       "Race - Ethnicity                             object\n",
       "Age At Release                               object\n",
       "Convicting Offense Classification            object\n",
       "Convicting Offense Type                      object\n",
       "Convicting Offense Subtype                   object\n",
       "Release type: Paroled to Detainder united    object\n",
       "Recidivism - Return to Prison numeric         int64\n",
       "dtype: object"
      ]
     },
     "execution_count": 9,
     "metadata": {},
     "output_type": "execute_result"
    }
   ],
   "source": [
    "recidivism_cleaned_df.dtypes"
   ]
  },
  {
   "cell_type": "code",
   "execution_count": 10,
   "id": "5b1cd03e",
   "metadata": {},
   "outputs": [],
   "source": [
    "#\"Age At Release\" column has an unneccasary space at the end, I'm going to rename and fix that.\n",
    "recidivism_cleaned_df = recidivism_cleaned_df.rename(columns={\"Age At Release \": \"Age At Release\"})"
   ]
  },
  {
   "cell_type": "code",
   "execution_count": 11,
   "id": "3dfdc71e",
   "metadata": {},
   "outputs": [
    {
     "data": {
      "text/plain": [
       "0            Under 25\n",
       "1        55 and Older\n",
       "2               25-34\n",
       "3        55 and Older\n",
       "4               25-34\n",
       "             ...     \n",
       "26015           25-34\n",
       "26016           25-34\n",
       "26017        Under 25\n",
       "26018        Under 25\n",
       "26019           35-44\n",
       "Name: Age At Release, Length: 24225, dtype: object"
      ]
     },
     "execution_count": 11,
     "metadata": {},
     "output_type": "execute_result"
    }
   ],
   "source": [
    "recidivism_cleaned_df['Age At Release']"
   ]
  },
  {
   "cell_type": "markdown",
   "id": "ea062d75",
   "metadata": {},
   "source": [
    "Now that our data is cleaned, it's time to start understanding it."
   ]
  },
  {
   "cell_type": "markdown",
   "id": "5df4d3c9",
   "metadata": {},
   "source": [
    "## Data Understanding / Visualization"
   ]
  },
  {
   "cell_type": "markdown",
   "id": "21ce3cf7",
   "metadata": {},
   "source": [
    "Before I get into modeling the data for classification, I want to visualize the data and see a few things. Apologies for the excessive circles but I like pie charts.\n",
    "\n",
    "The first will be how many offenders in this dataset reoffended in the first place."
   ]
  },
  {
   "cell_type": "code",
   "execution_count": 12,
   "id": "44ac0851",
   "metadata": {},
   "outputs": [],
   "source": [
    "import matplotlib.pyplot as plt"
   ]
  },
  {
   "cell_type": "code",
   "execution_count": 13,
   "id": "d9d5a71f",
   "metadata": {},
   "outputs": [
    {
     "data": {
      "image/png": "[encoded data removed]",
      "text/plain": [
       "<Figure size 432x288 with 1 Axes>"
      ]
     },
     "metadata": {},
     "output_type": "display_data"
    }
   ],
   "source": [
    "labels = ['Did not Reoffend', 'Reoffended']\n",
    "data = recidivism_cleaned_df['Recidivism - Return to Prison numeric'].value_counts()\n",
    "plt.pie(data, labels=labels, autopct='%1.1f%%', radius=2)\n",
    "plt.title('Offenders\\' Recidivism Within 3 Years', pad=100)\n",
    "plt.show()"
   ]
  },
  {
   "cell_type": "markdown",
   "id": "8b9617f0",
   "metadata": {},
   "source": [
    "Just from this pie graph, we can see that around 1/3 of offenders reoffended within 3 years.\n",
    "\n",
    "Let's now look at what types of crimes the reoffenders initially committed before they were released. For this, I'm just looking at the top 6 classifications, as I've discovered after trying to get a good look at this graph there are a few classifications with less than 1% of reoffenders that aren't common in the dataset."
   ]
  },
  {
   "cell_type": "code",
   "execution_count": 14,
   "id": "d11f08bd",
   "metadata": {},
   "outputs": [
    {
     "data": {
      "text/plain": [
       "1    8331\n",
       "Name: Recidivism - Return to Prison numeric, dtype: int64"
      ]
     },
     "execution_count": 14,
     "metadata": {},
     "output_type": "execute_result"
    }
   ],
   "source": [
    "reoffender_df = recidivism_cleaned_df[recidivism_cleaned_df['Recidivism - Return to Prison numeric'] != 0]\n",
    "reoffender_df['Recidivism - Return to Prison numeric'].value_counts()"
   ]
  },
  {
   "cell_type": "code",
   "execution_count": 15,
   "id": "400dd3cf",
   "metadata": {},
   "outputs": [
    {
     "data": {
      "image/png": "[encoded data removed]",
      "text/plain": [
       "<Figure size 432x288 with 1 Axes>"
      ]
     },
     "metadata": {},
     "output_type": "display_data"
    }
   ],
   "source": [
    "#first looking at classification of crime (felony, misdemeanor, etc)\n",
    "data = reoffender_df['Convicting Offense Classification'].value_counts().nlargest(6)\n",
    "labels = data.index\n",
    "plt.pie(data, labels=labels, autopct='%1.1f%%', radius=2)\n",
    "plt.title('Convicting Offense Classification - Reoffenders', pad=100)\n",
    "plt.show()"
   ]
  },
  {
   "cell_type": "markdown",
   "id": "4a5ec478",
   "metadata": {},
   "source": [
    "The common theme for reoffenders seems to be mostly a Felony. Let's explore those who did not reoffend and their initial convictions."
   ]
  },
  {
   "cell_type": "code",
   "execution_count": 16,
   "id": "f49aff06",
   "metadata": {},
   "outputs": [
    {
     "data": {
      "text/plain": [
       "0    15894\n",
       "Name: Recidivism - Return to Prison numeric, dtype: int64"
      ]
     },
     "execution_count": 16,
     "metadata": {},
     "output_type": "execute_result"
    }
   ],
   "source": [
    "no_reoffender_df = recidivism_cleaned_df[recidivism_cleaned_df['Recidivism - Return to Prison numeric'] != 1]\n",
    "no_reoffender_df['Recidivism - Return to Prison numeric'].value_counts()"
   ]
  },
  {
   "cell_type": "code",
   "execution_count": 17,
   "id": "7c477814",
   "metadata": {},
   "outputs": [
    {
     "data": {
      "image/png": "[encoded data removed]",
      "text/plain": [
       "<Figure size 432x288 with 1 Axes>"
      ]
     },
     "metadata": {},
     "output_type": "display_data"
    }
   ],
   "source": [
    "data = no_reoffender_df['Convicting Offense Classification'].value_counts().nlargest(6)\n",
    "labels = data.index\n",
    "plt.pie(data, labels=labels, autopct='%1.1f%%', radius=2)\n",
    "plt.title('Convicting Offense Classification - Did not Reoffend', pad=100)\n",
    "plt.show()"
   ]
  },
  {
   "cell_type": "markdown",
   "id": "9879f83e",
   "metadata": {},
   "source": [
    "Surprisingly, it's a very similar chart. Perhaps we need to look into other aspects."
   ]
  },
  {
   "cell_type": "markdown",
   "id": "12f0ce8f",
   "metadata": {},
   "source": [
    "Now I'm going to investigate release type - this would be answering a question regarding the type of release that an offender had. Does more supervision (aka Parole release versus finishing a sentence) stop an offender from reoffending?\n",
    "\n",
    "I'll use my split dataframes to show reoffender vs no reoffender."
   ]
  },
  {
   "cell_type": "code",
   "execution_count": 18,
   "id": "f0bd72f4",
   "metadata": {},
   "outputs": [
    {
     "data": {
      "image/png": "[encoded data removed]",
      "text/plain": [
       "<Figure size 432x288 with 1 Axes>"
      ]
     },
     "metadata": {},
     "output_type": "display_data"
    }
   ],
   "source": [
    "data = reoffender_df['Release type: Paroled to Detainder united'].value_counts()\n",
    "labels = data.index\n",
    "plt.pie(data, labels=labels, autopct='%1.1f%%', radius=2)\n",
    "plt.title('Release Type - Reoffended', pad=100)\n",
    "plt.show()"
   ]
  },
  {
   "cell_type": "code",
   "execution_count": 19,
   "id": "fd5086e6",
   "metadata": {},
   "outputs": [
    {
     "data": {
      "image/png": "[encoded data removed]",
      "text/plain": [
       "<Figure size 432x288 with 1 Axes>"
      ]
     },
     "metadata": {},
     "output_type": "display_data"
    }
   ],
   "source": [
    "data = no_reoffender_df['Release type: Paroled to Detainder united'].value_counts()\n",
    "labels = data.index\n",
    "plt.pie(data, labels=labels, autopct='%1.1f%%', radius=2)\n",
    "plt.title('Release Type - Did not Reoffend', pad=100)\n",
    "plt.show()"
   ]
  },
  {
   "cell_type": "markdown",
   "id": "e7c559b7",
   "metadata": {},
   "source": [
    "This data is interesting to me. It seems for reoffenders, more of them were released initally on Parole than being discharged at the end of their sentence. This leads to a question that came up quite a bit in my minor studies - does being supervised more make you reoffend more, or do officers just notice more crimes when someone is under supervision? This data can't answer that, but it'll be useful for the models."
   ]
  },
  {
   "cell_type": "markdown",
   "id": "64c53502",
   "metadata": {},
   "source": [
    "Let's look at Age ranges now for reoffending vs not reoffending."
   ]
  },
  {
   "cell_type": "code",
   "execution_count": 21,
   "id": "71427bb1",
   "metadata": {},
   "outputs": [
    {
     "data": {
      "image/png": "[encoded data removed]",
      "text/plain": [
       "<Figure size 432x288 with 1 Axes>"
      ]
     },
     "metadata": {},
     "output_type": "display_data"
    }
   ],
   "source": [
    "data = reoffender_df['Age At Release'].value_counts()\n",
    "labels = data.index\n",
    "plt.pie(data, labels=labels, autopct='%1.1f%%', radius=2)\n",
    "plt.title('Age - Reoffenders', pad=100)\n",
    "plt.show()"
   ]
  },
  {
   "cell_type": "code",
   "execution_count": 23,
   "id": "cc04a48e",
   "metadata": {},
   "outputs": [
    {
     "data": {
      "image/png": "[encoded data removed]",
      "text/plain": [
       "<Figure size 432x288 with 1 Axes>"
      ]
     },
     "metadata": {},
     "output_type": "display_data"
    }
   ],
   "source": [
    "data = no_reoffender_df['Age At Release'].value_counts()\n",
    "labels = data.index\n",
    "plt.pie(data, labels=labels, autopct='%1.1f%%', radius=2)\n",
    "plt.title('Age - Did not Reoffend', pad=100)\n",
    "plt.show()"
   ]
  },
  {
   "cell_type": "markdown",
   "id": "89d14194",
   "metadata": {},
   "source": [
    "For both of these age graphs, the younger age groups seemed to shrink with not reoffending versus reoffending, while the older age groups grew in the \"did not reoffend\" chart. Maybe this is a trend the models will pick up on."
   ]
  },
  {
   "cell_type": "markdown",
   "id": "ab89671e",
   "metadata": {},
   "source": [
    "The last visualizations I'm going to make pre-modeling is over race & ethnicity and reoffending. "
   ]
  },
  {
   "cell_type": "code",
   "execution_count": 62,
   "id": "bb9d05ab",
   "metadata": {},
   "outputs": [
    {
     "name": "stderr",
     "output_type": "stream",
     "text": [
      "/var/folders/yt/dh3sw_w52pz_ghjs7qjznxcm0000gn/T/ipykernel_1056/3583283130.py:5: FutureWarning: The series.append method is deprecated and will be removed from pandas in a future version. Use pandas.concat instead.\n",
      "  top4_df_copy = top4_df_copy.append(others)\n"
     ]
    },
    {
     "data": {
      "image/png": "[encoded data removed]",
      "text/plain": [
       "<Figure size 432x288 with 1 Axes>"
      ]
     },
     "metadata": {},
     "output_type": "display_data"
    }
   ],
   "source": [
    "top4_df = reoffender_df['Race - Ethnicity'].value_counts().sort_values(ascending=False)\n",
    "top4_df_copy = top4_df[:4].copy()\n",
    "others = top4_df[4:].sum()\n",
    "others = pd.Series(data=others, index=[\"Other\"])\n",
    "top4_df_copy = top4_df_copy.append(others)\n",
    "\n",
    "data = top4_df_copy\n",
    "labels = data.index\n",
    "plt.pie(data, labels=labels, autopct='%1.1f%%', radius=2)\n",
    "plt.title('Ethnicity - Reoffenders', pad=100)\n",
    "plt.show()"
   ]
  },
  {
   "cell_type": "code",
   "execution_count": 64,
   "id": "fc9c2cbd",
   "metadata": {},
   "outputs": [
    {
     "name": "stderr",
     "output_type": "stream",
     "text": [
      "/var/folders/yt/dh3sw_w52pz_ghjs7qjznxcm0000gn/T/ipykernel_1056/3724922183.py:5: FutureWarning: The series.append method is deprecated and will be removed from pandas in a future version. Use pandas.concat instead.\n",
      "  top4_df_copy = top4_df_copy.append(others)\n"
     ]
    },
    {
     "data": {
      "image/png": "[encoded data removed]",
      "text/plain": [
       "<Figure size 432x288 with 1 Axes>"
      ]
     },
     "metadata": {},
     "output_type": "display_data"
    }
   ],
   "source": [
    "top4_df = no_reoffender_df['Race - Ethnicity'].value_counts().sort_values(ascending=False)\n",
    "top4_df_copy = top4_df[:4].copy()\n",
    "others = top4_df[4:].sum()\n",
    "others = pd.Series(data=others, index=[\"Other\"])\n",
    "top4_df_copy = top4_df_copy.append(others)\n",
    "\n",
    "data = top4_df_copy\n",
    "labels = data.index\n",
    "plt.pie(data, labels=labels, autopct='%1.1f%%', radius=2)\n",
    "plt.title('Ethnicity - Did not Reoffend', pad=100)\n",
    "plt.show()"
   ]
  },
  {
   "cell_type": "markdown",
   "id": "99040667",
   "metadata": {},
   "source": [
    "The data doesn't have much of a difference with Race and Ethnicity. I'm curious to see how the model will handle this column. \n",
    "\n",
    "With all of these visuals giving us an idea of some differences between reoffenders and non-reoffenders, it's time to hand it off to the models and see if they can make some predictions. It is worth to be noted that there aren't traits with huge differences between reoffenders and non-reoffenders, so it'll be interesting to see if the models are able to pick up on clues that simple pie charts can't and if they are making accurate predictions."
   ]
  },
  {
   "cell_type": "markdown",
   "id": "1479f0a8",
   "metadata": {},
   "source": [
    "## Modeling"
   ]
  },
  {
   "cell_type": "markdown",
   "id": "036617cd",
   "metadata": {},
   "source": [
    "Now that I've looked at some of the data and visualized some key characteristics, I want to use models to predict our data.\n",
    "\n",
    "The models I'm going to be using are:\n",
    "<ul>\n",
    "    <li>Decision Tree</li>\n",
    "    <li>Random Forest</li>\n",
    "    <li>K-Nearest Neighbor</li>\n",
    "    <li>Logistic Regression</li>\n",
    "</ul>"
   ]
  },
  {
   "cell_type": "markdown",
   "id": "26400c71",
   "metadata": {},
   "source": [
    "I'm choosing these models because I want a variety of algorithms to see if one predicts this data better than others, especially with the data separating the two categories being so similar to each other."
   ]
  },
  {
   "cell_type": "markdown",
   "id": "268bd7ad",
   "metadata": {},
   "source": [
    "The first model I'm going to be using is a simple Decision Tree. A Decision Tree is a simple algorithm making true or false statements from a root node down to leaf nodes to decide where to classify data. I want to see how accurate of decisions it makes with a singular tree before moving on to utilizing Random Forest with many decision trees."
   ]
  },
  {
   "cell_type": "markdown",
   "id": "c1cf5e47",
   "metadata": {},
   "source": [
    "To start, I'm going to make dummy variables out of our String variables (which is most of them!)"
   ]
  },
  {
   "cell_type": "code",
   "execution_count": 66,
   "id": "f40d3b42",
   "metadata": {},
   "outputs": [
    {
     "data": {
      "text/plain": [
       "Race - Ethnicity                             object\n",
       "Age At Release                               object\n",
       "Convicting Offense Classification            object\n",
       "Convicting Offense Type                      object\n",
       "Convicting Offense Subtype                   object\n",
       "Release type: Paroled to Detainder united    object\n",
       "Recidivism - Return to Prison numeric         int64\n",
       "dtype: object"
      ]
     },
     "execution_count": 66,
     "metadata": {},
     "output_type": "execute_result"
    }
   ],
   "source": [
    "#checking which variables need dummies\n",
    "recidivism_cleaned_df.dtypes"
   ]
  },
  {
   "cell_type": "code",
   "execution_count": 70,
   "id": "ad129bfc",
   "metadata": {},
   "outputs": [
    {
     "data": {
      "text/html": [
       "<div>\n",
       "<style scoped>\n",
       "    .dataframe tbody tr th:only-of-type {\n",
       "        vertical-align: middle;\n",
       "    }\n",
       "\n",
       "    .dataframe tbody tr th {\n",
       "        vertical-align: top;\n",
       "    }\n",
       "\n",
       "    .dataframe thead th {\n",
       "        text-align: right;\n",
       "    }\n",
       "</style>\n",
       "<table border=\"1\" class=\"dataframe\">\n",
       "  <thead>\n",
       "    <tr style=\"text-align: right;\">\n",
       "      <th></th>\n",
       "      <th>Recidivism - Return to Prison numeric</th>\n",
       "      <th>Race - Ethnicity_American Indian or Alaska Native - Hispanic</th>\n",
       "      <th>Race - Ethnicity_American Indian or Alaska Native - Non-Hispanic</th>\n",
       "      <th>Race - Ethnicity_Asian or Pacific Islander - Hispanic</th>\n",
       "      <th>Race - Ethnicity_Asian or Pacific Islander - Non-Hispanic</th>\n",
       "      <th>Race - Ethnicity_Black -</th>\n",
       "      <th>Race - Ethnicity_Black - Hispanic</th>\n",
       "      <th>Race - Ethnicity_Black - Non-Hispanic</th>\n",
       "      <th>Race - Ethnicity_N/A -</th>\n",
       "      <th>Race - Ethnicity_White -</th>\n",
       "      <th>...</th>\n",
       "      <th>Convicting Offense Subtype_Stolen Property</th>\n",
       "      <th>Convicting Offense Subtype_Theft</th>\n",
       "      <th>Convicting Offense Subtype_Traffic</th>\n",
       "      <th>Convicting Offense Subtype_Trafficking</th>\n",
       "      <th>Convicting Offense Subtype_Vandalism</th>\n",
       "      <th>Convicting Offense Subtype_Weapons</th>\n",
       "      <th>Release type: Paroled to Detainder united_Discharged End of Sentence</th>\n",
       "      <th>Release type: Paroled to Detainder united_Parole</th>\n",
       "      <th>Release type: Paroled to Detainder united_Paroled to Detainer</th>\n",
       "      <th>Release type: Paroled to Detainder united_Special Sentence</th>\n",
       "    </tr>\n",
       "  </thead>\n",
       "  <tbody>\n",
       "    <tr>\n",
       "      <th>0</th>\n",
       "      <td>1</td>\n",
       "      <td>0</td>\n",
       "      <td>0</td>\n",
       "      <td>0</td>\n",
       "      <td>0</td>\n",
       "      <td>0</td>\n",
       "      <td>0</td>\n",
       "      <td>0</td>\n",
       "      <td>0</td>\n",
       "      <td>0</td>\n",
       "      <td>...</td>\n",
       "      <td>0</td>\n",
       "      <td>0</td>\n",
       "      <td>0</td>\n",
       "      <td>0</td>\n",
       "      <td>0</td>\n",
       "      <td>0</td>\n",
       "      <td>0</td>\n",
       "      <td>1</td>\n",
       "      <td>0</td>\n",
       "      <td>0</td>\n",
       "    </tr>\n",
       "    <tr>\n",
       "      <th>1</th>\n",
       "      <td>1</td>\n",
       "      <td>0</td>\n",
       "      <td>0</td>\n",
       "      <td>0</td>\n",
       "      <td>0</td>\n",
       "      <td>0</td>\n",
       "      <td>0</td>\n",
       "      <td>0</td>\n",
       "      <td>0</td>\n",
       "      <td>0</td>\n",
       "      <td>...</td>\n",
       "      <td>0</td>\n",
       "      <td>0</td>\n",
       "      <td>0</td>\n",
       "      <td>0</td>\n",
       "      <td>0</td>\n",
       "      <td>0</td>\n",
       "      <td>0</td>\n",
       "      <td>1</td>\n",
       "      <td>0</td>\n",
       "      <td>0</td>\n",
       "    </tr>\n",
       "    <tr>\n",
       "      <th>2</th>\n",
       "      <td>1</td>\n",
       "      <td>0</td>\n",
       "      <td>0</td>\n",
       "      <td>0</td>\n",
       "      <td>0</td>\n",
       "      <td>0</td>\n",
       "      <td>0</td>\n",
       "      <td>0</td>\n",
       "      <td>0</td>\n",
       "      <td>0</td>\n",
       "      <td>...</td>\n",
       "      <td>0</td>\n",
       "      <td>0</td>\n",
       "      <td>0</td>\n",
       "      <td>0</td>\n",
       "      <td>0</td>\n",
       "      <td>0</td>\n",
       "      <td>0</td>\n",
       "      <td>1</td>\n",
       "      <td>0</td>\n",
       "      <td>0</td>\n",
       "    </tr>\n",
       "    <tr>\n",
       "      <th>3</th>\n",
       "      <td>1</td>\n",
       "      <td>0</td>\n",
       "      <td>0</td>\n",
       "      <td>0</td>\n",
       "      <td>0</td>\n",
       "      <td>0</td>\n",
       "      <td>0</td>\n",
       "      <td>0</td>\n",
       "      <td>0</td>\n",
       "      <td>0</td>\n",
       "      <td>...</td>\n",
       "      <td>0</td>\n",
       "      <td>0</td>\n",
       "      <td>0</td>\n",
       "      <td>1</td>\n",
       "      <td>0</td>\n",
       "      <td>0</td>\n",
       "      <td>0</td>\n",
       "      <td>1</td>\n",
       "      <td>0</td>\n",
       "      <td>0</td>\n",
       "    </tr>\n",
       "    <tr>\n",
       "      <th>4</th>\n",
       "      <td>1</td>\n",
       "      <td>0</td>\n",
       "      <td>0</td>\n",
       "      <td>0</td>\n",
       "      <td>0</td>\n",
       "      <td>0</td>\n",
       "      <td>0</td>\n",
       "      <td>1</td>\n",
       "      <td>0</td>\n",
       "      <td>0</td>\n",
       "      <td>...</td>\n",
       "      <td>0</td>\n",
       "      <td>0</td>\n",
       "      <td>0</td>\n",
       "      <td>1</td>\n",
       "      <td>0</td>\n",
       "      <td>0</td>\n",
       "      <td>0</td>\n",
       "      <td>1</td>\n",
       "      <td>0</td>\n",
       "      <td>0</td>\n",
       "    </tr>\n",
       "    <tr>\n",
       "      <th>...</th>\n",
       "      <td>...</td>\n",
       "      <td>...</td>\n",
       "      <td>...</td>\n",
       "      <td>...</td>\n",
       "      <td>...</td>\n",
       "      <td>...</td>\n",
       "      <td>...</td>\n",
       "      <td>...</td>\n",
       "      <td>...</td>\n",
       "      <td>...</td>\n",
       "      <td>...</td>\n",
       "      <td>...</td>\n",
       "      <td>...</td>\n",
       "      <td>...</td>\n",
       "      <td>...</td>\n",
       "      <td>...</td>\n",
       "      <td>...</td>\n",
       "      <td>...</td>\n",
       "      <td>...</td>\n",
       "      <td>...</td>\n",
       "      <td>...</td>\n",
       "    </tr>\n",
       "    <tr>\n",
       "      <th>26015</th>\n",
       "      <td>0</td>\n",
       "      <td>0</td>\n",
       "      <td>0</td>\n",
       "      <td>0</td>\n",
       "      <td>0</td>\n",
       "      <td>0</td>\n",
       "      <td>0</td>\n",
       "      <td>0</td>\n",
       "      <td>0</td>\n",
       "      <td>0</td>\n",
       "      <td>...</td>\n",
       "      <td>0</td>\n",
       "      <td>0</td>\n",
       "      <td>0</td>\n",
       "      <td>0</td>\n",
       "      <td>0</td>\n",
       "      <td>0</td>\n",
       "      <td>1</td>\n",
       "      <td>0</td>\n",
       "      <td>0</td>\n",
       "      <td>0</td>\n",
       "    </tr>\n",
       "    <tr>\n",
       "      <th>26016</th>\n",
       "      <td>0</td>\n",
       "      <td>0</td>\n",
       "      <td>0</td>\n",
       "      <td>0</td>\n",
       "      <td>0</td>\n",
       "      <td>0</td>\n",
       "      <td>0</td>\n",
       "      <td>0</td>\n",
       "      <td>0</td>\n",
       "      <td>0</td>\n",
       "      <td>...</td>\n",
       "      <td>0</td>\n",
       "      <td>0</td>\n",
       "      <td>0</td>\n",
       "      <td>0</td>\n",
       "      <td>1</td>\n",
       "      <td>0</td>\n",
       "      <td>0</td>\n",
       "      <td>0</td>\n",
       "      <td>1</td>\n",
       "      <td>0</td>\n",
       "    </tr>\n",
       "    <tr>\n",
       "      <th>26017</th>\n",
       "      <td>0</td>\n",
       "      <td>0</td>\n",
       "      <td>0</td>\n",
       "      <td>0</td>\n",
       "      <td>0</td>\n",
       "      <td>0</td>\n",
       "      <td>0</td>\n",
       "      <td>1</td>\n",
       "      <td>0</td>\n",
       "      <td>0</td>\n",
       "      <td>...</td>\n",
       "      <td>0</td>\n",
       "      <td>0</td>\n",
       "      <td>0</td>\n",
       "      <td>0</td>\n",
       "      <td>0</td>\n",
       "      <td>0</td>\n",
       "      <td>1</td>\n",
       "      <td>0</td>\n",
       "      <td>0</td>\n",
       "      <td>0</td>\n",
       "    </tr>\n",
       "    <tr>\n",
       "      <th>26018</th>\n",
       "      <td>0</td>\n",
       "      <td>0</td>\n",
       "      <td>0</td>\n",
       "      <td>0</td>\n",
       "      <td>0</td>\n",
       "      <td>0</td>\n",
       "      <td>0</td>\n",
       "      <td>0</td>\n",
       "      <td>0</td>\n",
       "      <td>0</td>\n",
       "      <td>...</td>\n",
       "      <td>0</td>\n",
       "      <td>0</td>\n",
       "      <td>0</td>\n",
       "      <td>0</td>\n",
       "      <td>0</td>\n",
       "      <td>0</td>\n",
       "      <td>0</td>\n",
       "      <td>1</td>\n",
       "      <td>0</td>\n",
       "      <td>0</td>\n",
       "    </tr>\n",
       "    <tr>\n",
       "      <th>26019</th>\n",
       "      <td>0</td>\n",
       "      <td>0</td>\n",
       "      <td>0</td>\n",
       "      <td>0</td>\n",
       "      <td>0</td>\n",
       "      <td>0</td>\n",
       "      <td>0</td>\n",
       "      <td>0</td>\n",
       "      <td>0</td>\n",
       "      <td>0</td>\n",
       "      <td>...</td>\n",
       "      <td>0</td>\n",
       "      <td>0</td>\n",
       "      <td>0</td>\n",
       "      <td>0</td>\n",
       "      <td>0</td>\n",
       "      <td>0</td>\n",
       "      <td>0</td>\n",
       "      <td>1</td>\n",
       "      <td>0</td>\n",
       "      <td>0</td>\n",
       "    </tr>\n",
       "  </tbody>\n",
       "</table>\n",
       "<p>24225 rows × 66 columns</p>\n",
       "</div>"
      ],
      "text/plain": [
       "       Recidivism - Return to Prison numeric  \\\n",
       "0                                          1   \n",
       "1                                          1   \n",
       "2                                          1   \n",
       "3                                          1   \n",
       "4                                          1   \n",
       "...                                      ...   \n",
       "26015                                      0   \n",
       "26016                                      0   \n",
       "26017                                      0   \n",
       "26018                                      0   \n",
       "26019                                      0   \n",
       "\n",
       "       Race - Ethnicity_American Indian or Alaska Native - Hispanic  \\\n",
       "0                                                      0              \n",
       "1                                                      0              \n",
       "2                                                      0              \n",
       "3                                                      0              \n",
       "4                                                      0              \n",
       "...                                                  ...              \n",
       "26015                                                  0              \n",
       "26016                                                  0              \n",
       "26017                                                  0              \n",
       "26018                                                  0              \n",
       "26019                                                  0              \n",
       "\n",
       "       Race - Ethnicity_American Indian or Alaska Native - Non-Hispanic  \\\n",
       "0                                                      0                  \n",
       "1                                                      0                  \n",
       "2                                                      0                  \n",
       "3                                                      0                  \n",
       "4                                                      0                  \n",
       "...                                                  ...                  \n",
       "26015                                                  0                  \n",
       "26016                                                  0                  \n",
       "26017                                                  0                  \n",
       "26018                                                  0                  \n",
       "26019                                                  0                  \n",
       "\n",
       "       Race - Ethnicity_Asian or Pacific Islander - Hispanic  \\\n",
       "0                                                      0       \n",
       "1                                                      0       \n",
       "2                                                      0       \n",
       "3                                                      0       \n",
       "4                                                      0       \n",
       "...                                                  ...       \n",
       "26015                                                  0       \n",
       "26016                                                  0       \n",
       "26017                                                  0       \n",
       "26018                                                  0       \n",
       "26019                                                  0       \n",
       "\n",
       "       Race - Ethnicity_Asian or Pacific Islander - Non-Hispanic  \\\n",
       "0                                                      0           \n",
       "1                                                      0           \n",
       "2                                                      0           \n",
       "3                                                      0           \n",
       "4                                                      0           \n",
       "...                                                  ...           \n",
       "26015                                                  0           \n",
       "26016                                                  0           \n",
       "26017                                                  0           \n",
       "26018                                                  0           \n",
       "26019                                                  0           \n",
       "\n",
       "       Race - Ethnicity_Black -  Race - Ethnicity_Black - Hispanic  \\\n",
       "0                             0                                  0   \n",
       "1                             0                                  0   \n",
       "2                             0                                  0   \n",
       "3                             0                                  0   \n",
       "4                             0                                  0   \n",
       "...                         ...                                ...   \n",
       "26015                         0                                  0   \n",
       "26016                         0                                  0   \n",
       "26017                         0                                  0   \n",
       "26018                         0                                  0   \n",
       "26019                         0                                  0   \n",
       "\n",
       "       Race - Ethnicity_Black - Non-Hispanic  Race - Ethnicity_N/A -  \\\n",
       "0                                          0                       0   \n",
       "1                                          0                       0   \n",
       "2                                          0                       0   \n",
       "3                                          0                       0   \n",
       "4                                          1                       0   \n",
       "...                                      ...                     ...   \n",
       "26015                                      0                       0   \n",
       "26016                                      0                       0   \n",
       "26017                                      1                       0   \n",
       "26018                                      0                       0   \n",
       "26019                                      0                       0   \n",
       "\n",
       "       Race - Ethnicity_White -  ...  \\\n",
       "0                             0  ...   \n",
       "1                             0  ...   \n",
       "2                             0  ...   \n",
       "3                             0  ...   \n",
       "4                             0  ...   \n",
       "...                         ...  ...   \n",
       "26015                         0  ...   \n",
       "26016                         0  ...   \n",
       "26017                         0  ...   \n",
       "26018                         0  ...   \n",
       "26019                         0  ...   \n",
       "\n",
       "       Convicting Offense Subtype_Stolen Property  \\\n",
       "0                                               0   \n",
       "1                                               0   \n",
       "2                                               0   \n",
       "3                                               0   \n",
       "4                                               0   \n",
       "...                                           ...   \n",
       "26015                                           0   \n",
       "26016                                           0   \n",
       "26017                                           0   \n",
       "26018                                           0   \n",
       "26019                                           0   \n",
       "\n",
       "       Convicting Offense Subtype_Theft  Convicting Offense Subtype_Traffic  \\\n",
       "0                                     0                                   0   \n",
       "1                                     0                                   0   \n",
       "2                                     0                                   0   \n",
       "3                                     0                                   0   \n",
       "4                                     0                                   0   \n",
       "...                                 ...                                 ...   \n",
       "26015                                 0                                   0   \n",
       "26016                                 0                                   0   \n",
       "26017                                 0                                   0   \n",
       "26018                                 0                                   0   \n",
       "26019                                 0                                   0   \n",
       "\n",
       "       Convicting Offense Subtype_Trafficking  \\\n",
       "0                                           0   \n",
       "1                                           0   \n",
       "2                                           0   \n",
       "3                                           1   \n",
       "4                                           1   \n",
       "...                                       ...   \n",
       "26015                                       0   \n",
       "26016                                       0   \n",
       "26017                                       0   \n",
       "26018                                       0   \n",
       "26019                                       0   \n",
       "\n",
       "       Convicting Offense Subtype_Vandalism  \\\n",
       "0                                         0   \n",
       "1                                         0   \n",
       "2                                         0   \n",
       "3                                         0   \n",
       "4                                         0   \n",
       "...                                     ...   \n",
       "26015                                     0   \n",
       "26016                                     1   \n",
       "26017                                     0   \n",
       "26018                                     0   \n",
       "26019                                     0   \n",
       "\n",
       "       Convicting Offense Subtype_Weapons  \\\n",
       "0                                       0   \n",
       "1                                       0   \n",
       "2                                       0   \n",
       "3                                       0   \n",
       "4                                       0   \n",
       "...                                   ...   \n",
       "26015                                   0   \n",
       "26016                                   0   \n",
       "26017                                   0   \n",
       "26018                                   0   \n",
       "26019                                   0   \n",
       "\n",
       "       Release type: Paroled to Detainder united_Discharged End of Sentence  \\\n",
       "0                                                      0                      \n",
       "1                                                      0                      \n",
       "2                                                      0                      \n",
       "3                                                      0                      \n",
       "4                                                      0                      \n",
       "...                                                  ...                      \n",
       "26015                                                  1                      \n",
       "26016                                                  0                      \n",
       "26017                                                  1                      \n",
       "26018                                                  0                      \n",
       "26019                                                  0                      \n",
       "\n",
       "       Release type: Paroled to Detainder united_Parole  \\\n",
       "0                                                     1   \n",
       "1                                                     1   \n",
       "2                                                     1   \n",
       "3                                                     1   \n",
       "4                                                     1   \n",
       "...                                                 ...   \n",
       "26015                                                 0   \n",
       "26016                                                 0   \n",
       "26017                                                 0   \n",
       "26018                                                 1   \n",
       "26019                                                 1   \n",
       "\n",
       "       Release type: Paroled to Detainder united_Paroled to Detainer  \\\n",
       "0                                                      0               \n",
       "1                                                      0               \n",
       "2                                                      0               \n",
       "3                                                      0               \n",
       "4                                                      0               \n",
       "...                                                  ...               \n",
       "26015                                                  0               \n",
       "26016                                                  1               \n",
       "26017                                                  0               \n",
       "26018                                                  0               \n",
       "26019                                                  0               \n",
       "\n",
       "       Release type: Paroled to Detainder united_Special Sentence  \n",
       "0                                                      0           \n",
       "1                                                      0           \n",
       "2                                                      0           \n",
       "3                                                      0           \n",
       "4                                                      0           \n",
       "...                                                  ...           \n",
       "26015                                                  0           \n",
       "26016                                                  0           \n",
       "26017                                                  0           \n",
       "26018                                                  0           \n",
       "26019                                                  0           \n",
       "\n",
       "[24225 rows x 66 columns]"
      ]
     },
     "execution_count": 70,
     "metadata": {},
     "output_type": "execute_result"
    }
   ],
   "source": [
    "recidivism_cleaned_df_dummies = pd.get_dummies(recidivism_cleaned_df, columns = ['Race - Ethnicity', 'Age At Release',\n",
    "                                                                                'Convicting Offense Classification',\n",
    "                                                                                'Convicting Offense Type',\n",
    "                                                                                'Convicting Offense Subtype',\n",
    "                                                                                'Release type: Paroled to Detainder united'])\n",
    "recidivism_cleaned_df_dummies"
   ]
  },
  {
   "cell_type": "markdown",
   "id": "6c66bdbd",
   "metadata": {},
   "source": [
    "Now time to split X and y (features from target)"
   ]
  },
  {
   "cell_type": "code",
   "execution_count": 72,
   "id": "69f5d254",
   "metadata": {},
   "outputs": [],
   "source": [
    "X = recidivism_cleaned_df_dummies.drop(columns = ['Recidivism - Return to Prison numeric'])\n",
    "y = recidivism_cleaned_df_dummies['Recidivism - Return to Prison numeric']"
   ]
  },
  {
   "cell_type": "code",
   "execution_count": 73,
   "id": "6a26d271",
   "metadata": {},
   "outputs": [
    {
     "data": {
      "text/html": [
       "<div>\n",
       "<style scoped>\n",
       "    .dataframe tbody tr th:only-of-type {\n",
       "        vertical-align: middle;\n",
       "    }\n",
       "\n",
       "    .dataframe tbody tr th {\n",
       "        vertical-align: top;\n",
       "    }\n",
       "\n",
       "    .dataframe thead th {\n",
       "        text-align: right;\n",
       "    }\n",
       "</style>\n",
       "<table border=\"1\" class=\"dataframe\">\n",
       "  <thead>\n",
       "    <tr style=\"text-align: right;\">\n",
       "      <th></th>\n",
       "      <th>Race - Ethnicity_American Indian or Alaska Native - Hispanic</th>\n",
       "      <th>Race - Ethnicity_American Indian or Alaska Native - Non-Hispanic</th>\n",
       "      <th>Race - Ethnicity_Asian or Pacific Islander - Hispanic</th>\n",
       "      <th>Race - Ethnicity_Asian or Pacific Islander - Non-Hispanic</th>\n",
       "      <th>Race - Ethnicity_Black -</th>\n",
       "      <th>Race - Ethnicity_Black - Hispanic</th>\n",
       "      <th>Race - Ethnicity_Black - Non-Hispanic</th>\n",
       "      <th>Race - Ethnicity_N/A -</th>\n",
       "      <th>Race - Ethnicity_White -</th>\n",
       "      <th>Race - Ethnicity_White - Hispanic</th>\n",
       "      <th>...</th>\n",
       "      <th>Convicting Offense Subtype_Stolen Property</th>\n",
       "      <th>Convicting Offense Subtype_Theft</th>\n",
       "      <th>Convicting Offense Subtype_Traffic</th>\n",
       "      <th>Convicting Offense Subtype_Trafficking</th>\n",
       "      <th>Convicting Offense Subtype_Vandalism</th>\n",
       "      <th>Convicting Offense Subtype_Weapons</th>\n",
       "      <th>Release type: Paroled to Detainder united_Discharged End of Sentence</th>\n",
       "      <th>Release type: Paroled to Detainder united_Parole</th>\n",
       "      <th>Release type: Paroled to Detainder united_Paroled to Detainer</th>\n",
       "      <th>Release type: Paroled to Detainder united_Special Sentence</th>\n",
       "    </tr>\n",
       "  </thead>\n",
       "  <tbody>\n",
       "    <tr>\n",
       "      <th>0</th>\n",
       "      <td>0</td>\n",
       "      <td>0</td>\n",
       "      <td>0</td>\n",
       "      <td>0</td>\n",
       "      <td>0</td>\n",
       "      <td>0</td>\n",
       "      <td>0</td>\n",
       "      <td>0</td>\n",
       "      <td>0</td>\n",
       "      <td>0</td>\n",
       "      <td>...</td>\n",
       "      <td>0</td>\n",
       "      <td>0</td>\n",
       "      <td>0</td>\n",
       "      <td>0</td>\n",
       "      <td>0</td>\n",
       "      <td>0</td>\n",
       "      <td>0</td>\n",
       "      <td>1</td>\n",
       "      <td>0</td>\n",
       "      <td>0</td>\n",
       "    </tr>\n",
       "    <tr>\n",
       "      <th>1</th>\n",
       "      <td>0</td>\n",
       "      <td>0</td>\n",
       "      <td>0</td>\n",
       "      <td>0</td>\n",
       "      <td>0</td>\n",
       "      <td>0</td>\n",
       "      <td>0</td>\n",
       "      <td>0</td>\n",
       "      <td>0</td>\n",
       "      <td>0</td>\n",
       "      <td>...</td>\n",
       "      <td>0</td>\n",
       "      <td>0</td>\n",
       "      <td>0</td>\n",
       "      <td>0</td>\n",
       "      <td>0</td>\n",
       "      <td>0</td>\n",
       "      <td>0</td>\n",
       "      <td>1</td>\n",
       "      <td>0</td>\n",
       "      <td>0</td>\n",
       "    </tr>\n",
       "    <tr>\n",
       "      <th>2</th>\n",
       "      <td>0</td>\n",
       "      <td>0</td>\n",
       "      <td>0</td>\n",
       "      <td>0</td>\n",
       "      <td>0</td>\n",
       "      <td>0</td>\n",
       "      <td>0</td>\n",
       "      <td>0</td>\n",
       "      <td>0</td>\n",
       "      <td>0</td>\n",
       "      <td>...</td>\n",
       "      <td>0</td>\n",
       "      <td>0</td>\n",
       "      <td>0</td>\n",
       "      <td>0</td>\n",
       "      <td>0</td>\n",
       "      <td>0</td>\n",
       "      <td>0</td>\n",
       "      <td>1</td>\n",
       "      <td>0</td>\n",
       "      <td>0</td>\n",
       "    </tr>\n",
       "    <tr>\n",
       "      <th>3</th>\n",
       "      <td>0</td>\n",
       "      <td>0</td>\n",
       "      <td>0</td>\n",
       "      <td>0</td>\n",
       "      <td>0</td>\n",
       "      <td>0</td>\n",
       "      <td>0</td>\n",
       "      <td>0</td>\n",
       "      <td>0</td>\n",
       "      <td>0</td>\n",
       "      <td>...</td>\n",
       "      <td>0</td>\n",
       "      <td>0</td>\n",
       "      <td>0</td>\n",
       "      <td>1</td>\n",
       "      <td>0</td>\n",
       "      <td>0</td>\n",
       "      <td>0</td>\n",
       "      <td>1</td>\n",
       "      <td>0</td>\n",
       "      <td>0</td>\n",
       "    </tr>\n",
       "    <tr>\n",
       "      <th>4</th>\n",
       "      <td>0</td>\n",
       "      <td>0</td>\n",
       "      <td>0</td>\n",
       "      <td>0</td>\n",
       "      <td>0</td>\n",
       "      <td>0</td>\n",
       "      <td>1</td>\n",
       "      <td>0</td>\n",
       "      <td>0</td>\n",
       "      <td>0</td>\n",
       "      <td>...</td>\n",
       "      <td>0</td>\n",
       "      <td>0</td>\n",
       "      <td>0</td>\n",
       "      <td>1</td>\n",
       "      <td>0</td>\n",
       "      <td>0</td>\n",
       "      <td>0</td>\n",
       "      <td>1</td>\n",
       "      <td>0</td>\n",
       "      <td>0</td>\n",
       "    </tr>\n",
       "    <tr>\n",
       "      <th>...</th>\n",
       "      <td>...</td>\n",
       "      <td>...</td>\n",
       "      <td>...</td>\n",
       "      <td>...</td>\n",
       "      <td>...</td>\n",
       "      <td>...</td>\n",
       "      <td>...</td>\n",
       "      <td>...</td>\n",
       "      <td>...</td>\n",
       "      <td>...</td>\n",
       "      <td>...</td>\n",
       "      <td>...</td>\n",
       "      <td>...</td>\n",
       "      <td>...</td>\n",
       "      <td>...</td>\n",
       "      <td>...</td>\n",
       "      <td>...</td>\n",
       "      <td>...</td>\n",
       "      <td>...</td>\n",
       "      <td>...</td>\n",
       "      <td>...</td>\n",
       "    </tr>\n",
       "    <tr>\n",
       "      <th>26015</th>\n",
       "      <td>0</td>\n",
       "      <td>0</td>\n",
       "      <td>0</td>\n",
       "      <td>0</td>\n",
       "      <td>0</td>\n",
       "      <td>0</td>\n",
       "      <td>0</td>\n",
       "      <td>0</td>\n",
       "      <td>0</td>\n",
       "      <td>1</td>\n",
       "      <td>...</td>\n",
       "      <td>0</td>\n",
       "      <td>0</td>\n",
       "      <td>0</td>\n",
       "      <td>0</td>\n",
       "      <td>0</td>\n",
       "      <td>0</td>\n",
       "      <td>1</td>\n",
       "      <td>0</td>\n",
       "      <td>0</td>\n",
       "      <td>0</td>\n",
       "    </tr>\n",
       "    <tr>\n",
       "      <th>26016</th>\n",
       "      <td>0</td>\n",
       "      <td>0</td>\n",
       "      <td>0</td>\n",
       "      <td>0</td>\n",
       "      <td>0</td>\n",
       "      <td>0</td>\n",
       "      <td>0</td>\n",
       "      <td>0</td>\n",
       "      <td>0</td>\n",
       "      <td>0</td>\n",
       "      <td>...</td>\n",
       "      <td>0</td>\n",
       "      <td>0</td>\n",
       "      <td>0</td>\n",
       "      <td>0</td>\n",
       "      <td>1</td>\n",
       "      <td>0</td>\n",
       "      <td>0</td>\n",
       "      <td>0</td>\n",
       "      <td>1</td>\n",
       "      <td>0</td>\n",
       "    </tr>\n",
       "    <tr>\n",
       "      <th>26017</th>\n",
       "      <td>0</td>\n",
       "      <td>0</td>\n",
       "      <td>0</td>\n",
       "      <td>0</td>\n",
       "      <td>0</td>\n",
       "      <td>0</td>\n",
       "      <td>1</td>\n",
       "      <td>0</td>\n",
       "      <td>0</td>\n",
       "      <td>0</td>\n",
       "      <td>...</td>\n",
       "      <td>0</td>\n",
       "      <td>0</td>\n",
       "      <td>0</td>\n",
       "      <td>0</td>\n",
       "      <td>0</td>\n",
       "      <td>0</td>\n",
       "      <td>1</td>\n",
       "      <td>0</td>\n",
       "      <td>0</td>\n",
       "      <td>0</td>\n",
       "    </tr>\n",
       "    <tr>\n",
       "      <th>26018</th>\n",
       "      <td>0</td>\n",
       "      <td>0</td>\n",
       "      <td>0</td>\n",
       "      <td>0</td>\n",
       "      <td>0</td>\n",
       "      <td>0</td>\n",
       "      <td>0</td>\n",
       "      <td>0</td>\n",
       "      <td>0</td>\n",
       "      <td>0</td>\n",
       "      <td>...</td>\n",
       "      <td>0</td>\n",
       "      <td>0</td>\n",
       "      <td>0</td>\n",
       "      <td>0</td>\n",
       "      <td>0</td>\n",
       "      <td>0</td>\n",
       "      <td>0</td>\n",
       "      <td>1</td>\n",
       "      <td>0</td>\n",
       "      <td>0</td>\n",
       "    </tr>\n",
       "    <tr>\n",
       "      <th>26019</th>\n",
       "      <td>0</td>\n",
       "      <td>0</td>\n",
       "      <td>0</td>\n",
       "      <td>0</td>\n",
       "      <td>0</td>\n",
       "      <td>0</td>\n",
       "      <td>0</td>\n",
       "      <td>0</td>\n",
       "      <td>0</td>\n",
       "      <td>0</td>\n",
       "      <td>...</td>\n",
       "      <td>0</td>\n",
       "      <td>0</td>\n",
       "      <td>0</td>\n",
       "      <td>0</td>\n",
       "      <td>0</td>\n",
       "      <td>0</td>\n",
       "      <td>0</td>\n",
       "      <td>1</td>\n",
       "      <td>0</td>\n",
       "      <td>0</td>\n",
       "    </tr>\n",
       "  </tbody>\n",
       "</table>\n",
       "<p>24225 rows × 65 columns</p>\n",
       "</div>"
      ],
      "text/plain": [
       "       Race - Ethnicity_American Indian or Alaska Native - Hispanic  \\\n",
       "0                                                      0              \n",
       "1                                                      0              \n",
       "2                                                      0              \n",
       "3                                                      0              \n",
       "4                                                      0              \n",
       "...                                                  ...              \n",
       "26015                                                  0              \n",
       "26016                                                  0              \n",
       "26017                                                  0              \n",
       "26018                                                  0              \n",
       "26019                                                  0              \n",
       "\n",
       "       Race - Ethnicity_American Indian or Alaska Native - Non-Hispanic  \\\n",
       "0                                                      0                  \n",
       "1                                                      0                  \n",
       "2                                                      0                  \n",
       "3                                                      0                  \n",
       "4                                                      0                  \n",
       "...                                                  ...                  \n",
       "26015                                                  0                  \n",
       "26016                                                  0                  \n",
       "26017                                                  0                  \n",
       "26018                                                  0                  \n",
       "26019                                                  0                  \n",
       "\n",
       "       Race - Ethnicity_Asian or Pacific Islander - Hispanic  \\\n",
       "0                                                      0       \n",
       "1                                                      0       \n",
       "2                                                      0       \n",
       "3                                                      0       \n",
       "4                                                      0       \n",
       "...                                                  ...       \n",
       "26015                                                  0       \n",
       "26016                                                  0       \n",
       "26017                                                  0       \n",
       "26018                                                  0       \n",
       "26019                                                  0       \n",
       "\n",
       "       Race - Ethnicity_Asian or Pacific Islander - Non-Hispanic  \\\n",
       "0                                                      0           \n",
       "1                                                      0           \n",
       "2                                                      0           \n",
       "3                                                      0           \n",
       "4                                                      0           \n",
       "...                                                  ...           \n",
       "26015                                                  0           \n",
       "26016                                                  0           \n",
       "26017                                                  0           \n",
       "26018                                                  0           \n",
       "26019                                                  0           \n",
       "\n",
       "       Race - Ethnicity_Black -  Race - Ethnicity_Black - Hispanic  \\\n",
       "0                             0                                  0   \n",
       "1                             0                                  0   \n",
       "2                             0                                  0   \n",
       "3                             0                                  0   \n",
       "4                             0                                  0   \n",
       "...                         ...                                ...   \n",
       "26015                         0                                  0   \n",
       "26016                         0                                  0   \n",
       "26017                         0                                  0   \n",
       "26018                         0                                  0   \n",
       "26019                         0                                  0   \n",
       "\n",
       "       Race - Ethnicity_Black - Non-Hispanic  Race - Ethnicity_N/A -  \\\n",
       "0                                          0                       0   \n",
       "1                                          0                       0   \n",
       "2                                          0                       0   \n",
       "3                                          0                       0   \n",
       "4                                          1                       0   \n",
       "...                                      ...                     ...   \n",
       "26015                                      0                       0   \n",
       "26016                                      0                       0   \n",
       "26017                                      1                       0   \n",
       "26018                                      0                       0   \n",
       "26019                                      0                       0   \n",
       "\n",
       "       Race - Ethnicity_White -  Race - Ethnicity_White - Hispanic  ...  \\\n",
       "0                             0                                  0  ...   \n",
       "1                             0                                  0  ...   \n",
       "2                             0                                  0  ...   \n",
       "3                             0                                  0  ...   \n",
       "4                             0                                  0  ...   \n",
       "...                         ...                                ...  ...   \n",
       "26015                         0                                  1  ...   \n",
       "26016                         0                                  0  ...   \n",
       "26017                         0                                  0  ...   \n",
       "26018                         0                                  0  ...   \n",
       "26019                         0                                  0  ...   \n",
       "\n",
       "       Convicting Offense Subtype_Stolen Property  \\\n",
       "0                                               0   \n",
       "1                                               0   \n",
       "2                                               0   \n",
       "3                                               0   \n",
       "4                                               0   \n",
       "...                                           ...   \n",
       "26015                                           0   \n",
       "26016                                           0   \n",
       "26017                                           0   \n",
       "26018                                           0   \n",
       "26019                                           0   \n",
       "\n",
       "       Convicting Offense Subtype_Theft  Convicting Offense Subtype_Traffic  \\\n",
       "0                                     0                                   0   \n",
       "1                                     0                                   0   \n",
       "2                                     0                                   0   \n",
       "3                                     0                                   0   \n",
       "4                                     0                                   0   \n",
       "...                                 ...                                 ...   \n",
       "26015                                 0                                   0   \n",
       "26016                                 0                                   0   \n",
       "26017                                 0                                   0   \n",
       "26018                                 0                                   0   \n",
       "26019                                 0                                   0   \n",
       "\n",
       "       Convicting Offense Subtype_Trafficking  \\\n",
       "0                                           0   \n",
       "1                                           0   \n",
       "2                                           0   \n",
       "3                                           1   \n",
       "4                                           1   \n",
       "...                                       ...   \n",
       "26015                                       0   \n",
       "26016                                       0   \n",
       "26017                                       0   \n",
       "26018                                       0   \n",
       "26019                                       0   \n",
       "\n",
       "       Convicting Offense Subtype_Vandalism  \\\n",
       "0                                         0   \n",
       "1                                         0   \n",
       "2                                         0   \n",
       "3                                         0   \n",
       "4                                         0   \n",
       "...                                     ...   \n",
       "26015                                     0   \n",
       "26016                                     1   \n",
       "26017                                     0   \n",
       "26018                                     0   \n",
       "26019                                     0   \n",
       "\n",
       "       Convicting Offense Subtype_Weapons  \\\n",
       "0                                       0   \n",
       "1                                       0   \n",
       "2                                       0   \n",
       "3                                       0   \n",
       "4                                       0   \n",
       "...                                   ...   \n",
       "26015                                   0   \n",
       "26016                                   0   \n",
       "26017                                   0   \n",
       "26018                                   0   \n",
       "26019                                   0   \n",
       "\n",
       "       Release type: Paroled to Detainder united_Discharged End of Sentence  \\\n",
       "0                                                      0                      \n",
       "1                                                      0                      \n",
       "2                                                      0                      \n",
       "3                                                      0                      \n",
       "4                                                      0                      \n",
       "...                                                  ...                      \n",
       "26015                                                  1                      \n",
       "26016                                                  0                      \n",
       "26017                                                  1                      \n",
       "26018                                                  0                      \n",
       "26019                                                  0                      \n",
       "\n",
       "       Release type: Paroled to Detainder united_Parole  \\\n",
       "0                                                     1   \n",
       "1                                                     1   \n",
       "2                                                     1   \n",
       "3                                                     1   \n",
       "4                                                     1   \n",
       "...                                                 ...   \n",
       "26015                                                 0   \n",
       "26016                                                 0   \n",
       "26017                                                 0   \n",
       "26018                                                 1   \n",
       "26019                                                 1   \n",
       "\n",
       "       Release type: Paroled to Detainder united_Paroled to Detainer  \\\n",
       "0                                                      0               \n",
       "1                                                      0               \n",
       "2                                                      0               \n",
       "3                                                      0               \n",
       "4                                                      0               \n",
       "...                                                  ...               \n",
       "26015                                                  0               \n",
       "26016                                                  1               \n",
       "26017                                                  0               \n",
       "26018                                                  0               \n",
       "26019                                                  0               \n",
       "\n",
       "       Release type: Paroled to Detainder united_Special Sentence  \n",
       "0                                                      0           \n",
       "1                                                      0           \n",
       "2                                                      0           \n",
       "3                                                      0           \n",
       "4                                                      0           \n",
       "...                                                  ...           \n",
       "26015                                                  0           \n",
       "26016                                                  0           \n",
       "26017                                                  0           \n",
       "26018                                                  0           \n",
       "26019                                                  0           \n",
       "\n",
       "[24225 rows x 65 columns]"
      ]
     },
     "execution_count": 73,
     "metadata": {},
     "output_type": "execute_result"
    }
   ],
   "source": [
    "X"
   ]
  },
  {
   "cell_type": "code",
   "execution_count": 74,
   "id": "5642b373",
   "metadata": {},
   "outputs": [
    {
     "data": {
      "text/plain": [
       "0        1\n",
       "1        1\n",
       "2        1\n",
       "3        1\n",
       "4        1\n",
       "        ..\n",
       "26015    0\n",
       "26016    0\n",
       "26017    0\n",
       "26018    0\n",
       "26019    0\n",
       "Name: Recidivism - Return to Prison numeric, Length: 24225, dtype: int64"
      ]
     },
     "execution_count": 74,
     "metadata": {},
     "output_type": "execute_result"
    }
   ],
   "source": [
    "y"
   ]
  },
  {
   "cell_type": "code",
   "execution_count": 79,
   "id": "526e3999",
   "metadata": {},
   "outputs": [],
   "source": [
    "from sklearn.model_selection import train_test_split\n",
    "from sklearn import tree"
   ]
  },
  {
   "cell_type": "code",
   "execution_count": 76,
   "id": "18f326aa",
   "metadata": {},
   "outputs": [],
   "source": [
    "#splitting with 20%\n",
    "X_train, X_test, y_train, y_test = train_test_split(X, y, test_size = .2)"
   ]
  },
  {
   "cell_type": "code",
   "execution_count": 77,
   "id": "880e1612",
   "metadata": {},
   "outputs": [
    {
     "data": {
      "text/plain": [
       "((19380, 65), (19380,), (4845, 65), (4845,))"
      ]
     },
     "execution_count": 77,
     "metadata": {},
     "output_type": "execute_result"
    }
   ],
   "source": [
    "X_train.shape, y_train.shape, X_test.shape, y_test.shape"
   ]
  },
  {
   "cell_type": "code",
   "execution_count": 80,
   "id": "0fcbc6aa",
   "metadata": {},
   "outputs": [],
   "source": [
    "#Creating the tree\n",
    "clf = tree.DecisionTreeClassifier()\n",
    "clf = clf.fit(X_train, y_train)"
   ]
  },
  {
   "cell_type": "code",
   "execution_count": 86,
   "id": "a81f20f0",
   "metadata": {},
   "outputs": [
    {
     "data": {
      "text/plain": [
       "0.6553147574819401"
      ]
     },
     "execution_count": 86,
     "metadata": {},
     "output_type": "execute_result"
    }
   ],
   "source": [
    "clf.score(X_test, y_test)"
   ]
  },
  {
   "cell_type": "markdown",
   "id": "c8c8e308",
   "metadata": {},
   "source": [
    "Our one decision tree comes back with a score of 65% accuracy, which isn't great, but one thing to remember about this data is that there are many other factors not included in this dataset that could contribute to a person reoffending. I'm not going to visualize this tree because there are too many dummy variables and decisions for it to plot out (my laptop is also not very happy about it) - but I'll come back to the tree and analyze the results versus my other classification algorithms used."
   ]
  },
  {
   "cell_type": "markdown",
   "id": "fb8131a0",
   "metadata": {},
   "source": [
    "Next, I'm going to upgrade this singular decision tree algorithm into a Random Forest and see if that yields better results. A Random Forest, in its simplest description, is just a bunch of decision trees working together to classify data. I'm going to use 100 decision trees."
   ]
  },
  {
   "cell_type": "code",
   "execution_count": 94,
   "id": "c0abb65c",
   "metadata": {},
   "outputs": [],
   "source": [
    "from sklearn.ensemble import RandomForestClassifier\n",
    "from sklearn.metrics import classification_report, confusion_matrix, accuracy_score"
   ]
  },
  {
   "cell_type": "code",
   "execution_count": 104,
   "id": "037de7f0",
   "metadata": {},
   "outputs": [],
   "source": [
    "regressor = RandomForestClassifier(n_estimators=100)\n",
    "regressor.fit(X_train, y_train)\n",
    "predicted = regressor.predict(X_test)"
   ]
  },
  {
   "cell_type": "code",
   "execution_count": 108,
   "id": "3b617cf3",
   "metadata": {},
   "outputs": [
    {
     "name": "stdout",
     "output_type": "stream",
     "text": [
      "              precision    recall  f1-score   support\n",
      "\n",
      "           0       0.70      0.86      0.77      3208\n",
      "           1       0.49      0.26      0.34      1637\n",
      "\n",
      "    accuracy                           0.66      4845\n",
      "   macro avg       0.59      0.56      0.55      4845\n",
      "weighted avg       0.63      0.66      0.62      4845\n",
      "\n"
     ]
    }
   ],
   "source": [
    "print(classification_report(y_test, predicted))"
   ]
  },
  {
   "cell_type": "markdown",
   "id": "7ec3904d",
   "metadata": {},
   "source": [
    "Looking at our accuracy alone to compare to the singular decision tree, it didn't change much (66% accuracy here!). Adding more trees doesn't change the accuracy of the model. This is showing that decision trees are not a great method at predicting a reoffender with the criteria we have. "
   ]
  },
  {
   "cell_type": "markdown",
   "id": "d5f4b9a1",
   "metadata": {},
   "source": [
    "Next, I'm going to implement K-Nearest Neighbor on my data, 5 neighbors, then I will increase to 10 neighbors to see if there is a difference. K-Nearest Neighbor takes data and plots it in a dimensional plane to spot clusters of data. It then takes new data and places it in that plane and takes the K-nearest neighbors (5 and 10 in these models) to decide which category the data is most similar to."
   ]
  },
  {
   "cell_type": "code",
   "execution_count": 109,
   "id": "65e6f768",
   "metadata": {},
   "outputs": [],
   "source": [
    "from sklearn.neighbors import KNeighborsClassifier"
   ]
  },
  {
   "cell_type": "code",
   "execution_count": 115,
   "id": "fb13c60d",
   "metadata": {},
   "outputs": [],
   "source": [
    "knn_model = KNeighborsClassifier(n_neighbors=5)"
   ]
  },
  {
   "cell_type": "code",
   "execution_count": 116,
   "id": "66157792",
   "metadata": {},
   "outputs": [
    {
     "data": {
      "text/plain": [
       "KNeighborsClassifier()"
      ]
     },
     "execution_count": 116,
     "metadata": {},
     "output_type": "execute_result"
    }
   ],
   "source": [
    "knn_model.fit(X_train, y_train)"
   ]
  },
  {
   "cell_type": "code",
   "execution_count": 117,
   "id": "267f65f1",
   "metadata": {},
   "outputs": [
    {
     "data": {
      "text/plain": [
       "0.6181630546955624"
      ]
     },
     "execution_count": 117,
     "metadata": {},
     "output_type": "execute_result"
    }
   ],
   "source": [
    "knn_model.score(X_test, y_test)"
   ]
  },
  {
   "cell_type": "markdown",
   "id": "c7750afb",
   "metadata": {},
   "source": [
    "The score for accuracy in K Nearest Neighbor is performing slightly under the Random Forest / Decision Tree at 61%. Let's increase neighbors to 10 and see if there's a difference."
   ]
  },
  {
   "cell_type": "code",
   "execution_count": 118,
   "id": "2ebde68b",
   "metadata": {},
   "outputs": [],
   "source": [
    "knn_model = KNeighborsClassifier(n_neighbors=10)"
   ]
  },
  {
   "cell_type": "code",
   "execution_count": 119,
   "id": "d24cb1fa",
   "metadata": {},
   "outputs": [
    {
     "data": {
      "text/plain": [
       "KNeighborsClassifier(n_neighbors=10)"
      ]
     },
     "execution_count": 119,
     "metadata": {},
     "output_type": "execute_result"
    }
   ],
   "source": [
    "knn_model.fit(X_train, y_train)"
   ]
  },
  {
   "cell_type": "code",
   "execution_count": 120,
   "id": "89089497",
   "metadata": {},
   "outputs": [
    {
     "data": {
      "text/plain": [
       "0.6454076367389061"
      ]
     },
     "execution_count": 120,
     "metadata": {},
     "output_type": "execute_result"
    }
   ],
   "source": [
    "knn_model.score(X_test, y_test)"
   ]
  },
  {
   "cell_type": "markdown",
   "id": "fa267165",
   "metadata": {},
   "source": [
    "Let's print out more metrics for a clearer view."
   ]
  },
  {
   "cell_type": "code",
   "execution_count": 130,
   "id": "026e34c8",
   "metadata": {},
   "outputs": [],
   "source": [
    "predictions = knn_model.predict(X_test)"
   ]
  },
  {
   "cell_type": "code",
   "execution_count": 131,
   "id": "ad6dc227",
   "metadata": {},
   "outputs": [
    {
     "name": "stdout",
     "output_type": "stream",
     "text": [
      "              precision    recall  f1-score   support\n",
      "\n",
      "           0       0.68      0.88      0.77      3208\n",
      "           1       0.44      0.18      0.25      1637\n",
      "\n",
      "    accuracy                           0.65      4845\n",
      "   macro avg       0.56      0.53      0.51      4845\n",
      "weighted avg       0.60      0.65      0.59      4845\n",
      "\n"
     ]
    }
   ],
   "source": [
    "print(classification_report(y_test, predictions))"
   ]
  },
  {
   "cell_type": "markdown",
   "id": "3c20c648",
   "metadata": {},
   "source": [
    "It increased the accuracy by around 3%, so not a super significant improvement."
   ]
  },
  {
   "cell_type": "markdown",
   "id": "4b877c8e",
   "metadata": {},
   "source": [
    "The last model type I'm going to be using is a Logistic Regression. A Logistic Regression is an algorithm that uses a logarithmic graph to plot out the probability of data being in one category or the other. "
   ]
  },
  {
   "cell_type": "code",
   "execution_count": 121,
   "id": "09b5ca37",
   "metadata": {},
   "outputs": [],
   "source": [
    "from sklearn.linear_model import LogisticRegression"
   ]
  },
  {
   "cell_type": "code",
   "execution_count": 122,
   "id": "806f8f62",
   "metadata": {},
   "outputs": [],
   "source": [
    "log = LogisticRegression()"
   ]
  },
  {
   "cell_type": "code",
   "execution_count": 124,
   "id": "1a0cfaad",
   "metadata": {},
   "outputs": [
    {
     "name": "stderr",
     "output_type": "stream",
     "text": [
      "/Users/jilldahlem/opt/anaconda3/lib/python3.9/site-packages/sklearn/linear_model/_logistic.py:814: ConvergenceWarning: lbfgs failed to converge (status=1):\n",
      "STOP: TOTAL NO. of ITERATIONS REACHED LIMIT.\n",
      "\n",
      "Increase the number of iterations (max_iter) or scale the data as shown in:\n",
      "    https://scikit-learn.org/stable/modules/preprocessing.html\n",
      "Please also refer to the documentation for alternative solver options:\n",
      "    https://scikit-learn.org/stable/modules/linear_model.html#logistic-regression\n",
      "  n_iter_i = _check_optimize_result(\n"
     ]
    },
    {
     "data": {
      "text/plain": [
       "LogisticRegression()"
      ]
     },
     "execution_count": 124,
     "metadata": {},
     "output_type": "execute_result"
    }
   ],
   "source": [
    "log.fit(X_train, y_train)"
   ]
  },
  {
   "cell_type": "code",
   "execution_count": 129,
   "id": "47a4a925",
   "metadata": {},
   "outputs": [
    {
     "data": {
      "text/plain": [
       "0.6619195046439629"
      ]
     },
     "execution_count": 129,
     "metadata": {},
     "output_type": "execute_result"
    }
   ],
   "source": [
    "log.score(X_test, y_test)"
   ]
  },
  {
   "cell_type": "code",
   "execution_count": 132,
   "id": "eee826fd",
   "metadata": {},
   "outputs": [],
   "source": [
    "predictions = log.predict(X_test)"
   ]
  },
  {
   "cell_type": "code",
   "execution_count": 133,
   "id": "974fc20e",
   "metadata": {},
   "outputs": [
    {
     "name": "stdout",
     "output_type": "stream",
     "text": [
      "              precision    recall  f1-score   support\n",
      "\n",
      "           0       0.67      0.96      0.79      3208\n",
      "           1       0.50      0.08      0.13      1637\n",
      "\n",
      "    accuracy                           0.66      4845\n",
      "   macro avg       0.58      0.52      0.46      4845\n",
      "weighted avg       0.61      0.66      0.57      4845\n",
      "\n"
     ]
    }
   ],
   "source": [
    "print(classification_report(y_test, predictions))"
   ]
  },
  {
   "cell_type": "markdown",
   "id": "5d8c5f0b",
   "metadata": {},
   "source": [
    "Even with logistic regression, the accuracy is sticking around 66%."
   ]
  },
  {
   "cell_type": "markdown",
   "id": "a86d13bd",
   "metadata": {},
   "source": [
    "## Evaluation / Discussion"
   ]
  },
  {
   "cell_type": "markdown",
   "id": "c04c3851",
   "metadata": {},
   "source": [
    "So, after running through four different models of classification algorithms, I think it's clear these models don't have the capability of accurately predicting reoffenders. The best performing model that I used was Logistic Regression and Random Forest, both sitting at an accuracy of 66%. This means that 1/3 of its predictions were incorrect. Now, predicting reoffenders isn't always a life-or-death necessary function but it could help to prevent future crimes.\n",
    "\n",
    "Let's just look at the Logistic Regression's confusion matrix to see if it predicted more false positive or false negatives."
   ]
  },
  {
   "cell_type": "code",
   "execution_count": 134,
   "id": "fdb03b1b",
   "metadata": {},
   "outputs": [
    {
     "data": {
      "text/plain": [
       "array([[3084,  124],\n",
       "       [1514,  123]])"
      ]
     },
     "execution_count": 134,
     "metadata": {},
     "output_type": "execute_result"
    }
   ],
   "source": [
    "confusion_matrix(y_test, predictions)"
   ]
  },
  {
   "cell_type": "markdown",
   "id": "cebacde8",
   "metadata": {},
   "source": [
    "So, for the Logistic Regression model, it actually predicted more false positives than false negatives (1514 vs 124). This means that the model believed that more offenders who did not reoffend actually reoffended than predicting that offenders who did reoffend but in actuality did not.\n",
    "\n",
    "If a model like this were in use today, it would likely lead to more resources being used on offenders to prevent future reoffending. It could be seen as a good thing to be overpredicting reoffenders because in reality there are less reoffenders than predicted and more resources could be available for first time offenders, but it could also be seen as a bad thing because it could mean more supervision for first time offenders who don't actually have a need for it."
   ]
  },
  {
   "cell_type": "markdown",
   "id": "1aab9c13",
   "metadata": {},
   "source": [
    "Now, for why the models didn't perform that great? It's likely because there weren't huge significant differences between reoffenders and non-reoffenders as shown in the visualizations. There are likely other characteristics in play that were not represented in this dataset that could separate the two categories of offenders. I think this is something that the criminal justice system as a whole struggles with because if there were a sure-fire way of predicting reoffenders, it'd be in use and be working on preventing reoffenses in the future. But it's easy to forget that the statistics and data here represents real people who live in different circumstances and live completely different lives than each other that can't be captured by a data column."
   ]
  },
  {
   "cell_type": "markdown",
   "id": "d256ac61",
   "metadata": {},
   "source": [
    "### Sources"
   ]
  },
  {
   "cell_type": "markdown",
   "id": "ee81ede7",
   "metadata": {},
   "source": [
    "<ul>\n",
    "    <li>https://www.kaggle.com/datasets/slonnadube/recidivism-for-offenders-released-from-prison</li>\n",
    "    <li>https://www.stackabuse.com/random-forest-algorithm-with-python-and-scikit-learn</li>\n",
    "    <li>https://towardsdatascience.com/logistic-regression-using-python-sklearn-numpy-mnist-handwriting-recognition-matplotlib-a6b31e2b166a</li>\n",
    "    <li>https://www.datacamp.com/tutorial/k-nearest-neighbor-classification-scikit-learn</li>\n",
    "</ul>"
   ]
  }
 ],
 "metadata": {
  "kernelspec": {
   "display_name": "Python 3 (ipykernel)",
   "language": "python",
   "name": "python3"
  },
  "language_info": {
   "codemirror_mode": {
    "name": "ipython",
    "version": 3
   },
   "file_extension": ".py",
   "mimetype": "text/x-python",
   "name": "python",
   "nbconvert_exporter": "python",
   "pygments_lexer": "ipython3",
   "version": "3.9.12"
  }
 },
 "nbformat": 4,
 "nbformat_minor": 5
}
